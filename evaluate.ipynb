{
 "cells": [
  {
   "cell_type": "code",
   "execution_count": 2,
   "id": "ff4ece61",
   "metadata": {},
   "outputs": [
    {
     "data": {
      "image/png": "[encoded data removed]",
      "text/plain": [
       "<Figure size 640x480 with 1 Axes>"
      ]
     },
     "metadata": {},
     "output_type": "display_data"
    }
   ],
   "source": [
    "import matplotlib.pyplot as plt\n",
    "import matplotlib\n",
    "\n",
    "# 只保留系统已有的中文字体（优先用 SimHei 黑体，Windows 必装）\n",
    "matplotlib.rcParams[\"font.family\"] = [\"SimHei\", \"Microsoft YaHei\", \"SimSun\"]\n",
    "# 解决负号显示问题\n",
    "matplotlib.rcParams['axes.unicode_minus'] = False\n",
    "\n",
    "# 测试中文显示\n",
    "plt.figure()\n",
    "plt.title(\"中文标题测试\")  # 此时应正常显示中文，无警告\n",
    "plt.xlabel(\"横轴\")\n",
    "plt.ylabel(\"纵轴\")\n",
    "plt.show()"
   ]
  },
  {
   "cell_type": "code",
   "execution_count": 3,
   "id": "6f04c989",
   "metadata": {},
   "outputs": [
    {
     "name": "stdout",
     "output_type": "stream",
     "text": [
      "加载测试数据中...\n"
     ]
    },
    {
     "name": "stderr",
     "output_type": "stream",
     "text": [
      "C:\\Users\\27976\\AppData\\Local\\Temp\\ipykernel_32908\\2335792241.py:31: FutureWarning: You are using `torch.load` with `weights_only=False` (the current default value), which uses the default pickle module implicitly. It is possible to construct malicious pickle data which will execute arbitrary code during unpickling (See https://github.com/pytorch/pytorch/blob/main/SECURITY.md#untrusted-models for more details). In a future release, the default value for `weights_only` will be flipped to `True`. This limits the functions that could be executed during unpickling. Arbitrary objects will no longer be allowed to be loaded via this mode unless they are explicitly allowlisted by the user via `torch.serialization.add_safe_globals`. We recommend you start setting `weights_only=True` for any use case where you don't have full control of the loaded file. Please open an issue on GitHub for any issues related to this experimental feature.\n",
      "  model.load_state_dict(torch.load(MODEL_PATH, map_location=torch.device('cpu')))  # 支持CPU加载\n"
     ]
    },
    {
     "name": "stdout",
     "output_type": "stream",
     "text": [
      "==================================================\n",
      "📊 降噪效果评估结果\n",
      "==================================================\n",
      "降噪前平均SNR：-15.37 dB\n",
      "降噪后平均SNR：0.79 dB\n",
      "SNR提升幅度：16.17 dB\n",
      "==================================================\n",
      "降噪对比图已保存至：results\\denoise_result.png\n"
     ]
    }
   ],
   "source": [
    "import os\n",
    "import torch\n",
    "import numpy as np\n",
    "\n",
    "# 其他已有导入（保持不变）\n",
    "import import_ipynb\n",
    "import matplotlib.pyplot as plt\n",
    "from data_loader import (\n",
    "    load_images_from_dir, add_underwater_noise, preprocess_data\n",
    ")\n",
    "from model import DenoiseAE\n",
    "\n",
    "# 1. 配置参数\n",
    "TEST_IMG_DIR = r\"C:\\Users\\27976\\Desktop\\UATD\\UATD_Test_2\\images\"  # 替换为你的测试集路径\n",
    "NUM_TEST = 800        # 测试样本数\n",
    "IMAGE_SIZE = (256, 256)  # 图像尺寸\n",
    "MODEL_PATH = \"denoise_ae.pth\"  # 模型路径\n",
    "RESULTS_DIR = \"results\"        # 结果保存文件夹\n",
    "\n",
    "# 确保结果文件夹存在\n",
    "os.makedirs(RESULTS_DIR, exist_ok=True)\n",
    "\n",
    "# 2. 加载测试数据\n",
    "print(\"加载测试数据中...\")\n",
    "test_clean = load_images_from_dir(TEST_IMG_DIR, num_samples=NUM_TEST, size=IMAGE_SIZE)\n",
    "test_noisy = np.array([add_underwater_noise(img) for img in test_clean])\n",
    "test_clean_tensor, test_noisy_tensor = preprocess_data(test_clean, test_noisy)\n",
    "\n",
    "# 3. 加载模型\n",
    "model = DenoiseAE()\n",
    "model.load_state_dict(torch.load(MODEL_PATH, map_location=torch.device('cpu')))  # 支持CPU加载\n",
    "model.eval()  # 切换到评估模式\n",
    "\n",
    "# 4. 计算SNR（信噪比）\n",
    "def calculate_snr(clean, denoised):\n",
    "    \"\"\"计算信噪比：越高表示降噪效果越好\"\"\"\n",
    "    signal_power = np.var(clean)  # 信号功率（干净图像方差）\n",
    "    noise_power = np.var(clean - denoised)  # 噪声功率（残差方差）\n",
    "    return 10 * np.log10(signal_power / noise_power) if noise_power != 0 else 0\n",
    "\n",
    "# 5. 生成降噪结果并评估\n",
    "snr_before = []\n",
    "snr_after = []\n",
    "denoised_imgs = []\n",
    "\n",
    "with torch.no_grad():  # 关闭梯度计算，加速评估\n",
    "    for i in range(len(test_noisy_tensor)):\n",
    "        # 模型预测\n",
    "        noisy_input = test_noisy_tensor[i].unsqueeze(0)  # 加batch维度\n",
    "        denoised_tensor = model(noisy_input)\n",
    "        denoised_np = denoised_tensor.squeeze().numpy()  # 转为numpy数组\n",
    "        \n",
    "        # 计算SNR\n",
    "        clean_np = test_clean_tensor[i].squeeze().numpy()\n",
    "        noisy_np = test_noisy_tensor[i].squeeze().numpy()\n",
    "        snr_before.append(calculate_snr(clean_np, noisy_np))\n",
    "        snr_after.append(calculate_snr(clean_np, denoised_np))\n",
    "        denoised_imgs.append(denoised_np)\n",
    "\n",
    "# 6. 输出评估结果\n",
    "print(\"=\"*50)\n",
    "print(\"📊 降噪效果评估结果\")\n",
    "print(\"=\"*50)\n",
    "print(f\"降噪前平均SNR：{np.mean(snr_before):.2f} dB\")\n",
    "print(f\"降噪后平均SNR：{np.mean(snr_after):.2f} dB\")\n",
    "print(f\"SNR提升幅度：{np.mean(snr_after) - np.mean(snr_before):.2f} dB\")\n",
    "print(\"=\"*50)\n",
    "\n",
    "# 7. 可视化并保存对比图（4组示例）\n",
    "plt.figure(figsize=(20, 14), dpi=100)\n",
    "for i in range(4):\n",
    "    idx = np.random.randint(0, len(test_noisy))  # 随机选图\n",
    "    \n",
    "    # 干净图像\n",
    "    plt.subplot(4, 3, i*3 + 1)\n",
    "    plt.imshow(test_clean[idx], cmap='gray')\n",
    "    plt.title(\"干净声呐图像\", fontsize=14)\n",
    "    plt.axis(\"off\")\n",
    "    \n",
    "    # 含噪图像\n",
    "    plt.subplot(4, 3, i*3 + 2)\n",
    "    plt.imshow(test_noisy[idx], cmap='gray')\n",
    "    plt.title(f\"含噪图像（SNR：{snr_before[idx]:.2f} dB）\", fontsize=14)\n",
    "    plt.axis(\"off\")\n",
    "    \n",
    "    # 降噪后图像\n",
    "    plt.subplot(4, 3, i*3 + 3)\n",
    "    plt.imshow(denoised_imgs[idx], cmap='gray')\n",
    "    plt.title(f\"降噪后图像（SNR：{snr_after[idx]:.2f} dB）\", fontsize=14)\n",
    "    plt.axis(\"off\")\n",
    "\n",
    "# 添加总标题\n",
    "plt.suptitle(\n",
    "    f\"水下声呐图像降噪效果对比（平均SNR提升：{np.mean(snr_after) - np.mean(snr_before):.2f} dB）\\n\"\n",
    "    f\"降噪前：{np.mean(snr_before):.2f} dB | 降噪后：{np.mean(snr_after):.2f} dB\",\n",
    "    fontsize=18, y=0.99\n",
    ")\n",
    "plt.tight_layout()\n",
    "\n",
    "# 保存对比图\n",
    "result_path = os.path.join(RESULTS_DIR, \"denoise_result.png\")\n",
    "plt.savefig(result_path, bbox_inches='tight')\n",
    "plt.close()\n",
    "print(f\"降噪对比图已保存至：{result_path}\")"
   ]
  },
  {
   "cell_type": "code",
   "execution_count": null,
   "id": "8b11027e",
   "metadata": {},
   "outputs": [],
   "source": []
  }
 ],
 "metadata": {
  "kernelspec": {
   "display_name": "denoise",
   "language": "python",
   "name": "denoise"
  },
  "language_info": {
   "codemirror_mode": {
    "name": "ipython",
    "version": 3
   },
   "file_extension": ".py",
   "mimetype": "text/x-python",
   "name": "python",
   "nbconvert_exporter": "python",
   "pygments_lexer": "ipython3",
   "version": "3.8.20"
  }
 },
 "nbformat": 4,
 "nbformat_minor": 5
}
