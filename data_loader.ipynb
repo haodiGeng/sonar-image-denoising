{
 "cells": [
  {
   "cell_type": "code",
   "execution_count": 1,
   "id": "c4672797",
   "metadata": {},
   "outputs": [],
   "source": [
    "import os\n",
    "import cv2\n",
    "import numpy as np\n",
    "import torch\n",
    "\n",
    "def load_bmp_image(img_path):\n",
    "    \"\"\"读取BMP图像（支持中文路径）\"\"\"\n",
    "    img_array = np.fromfile(img_path, dtype=np.uint8)\n",
    "    return cv2.imdecode(img_array, cv2.IMREAD_GRAYSCALE)  # 灰度图读取\n",
    "\n",
    "def load_images_from_dir(img_dir, num_samples=500, size=(256, 256)):\n",
    "    \"\"\"批量加载图像并统一尺寸\"\"\"\n",
    "    images = []\n",
    "    # 只取BMP文件，避免其他格式干扰\n",
    "    img_names = [name for name in os.listdir(img_dir) if name.lower().endswith('.bmp')][:num_samples]\n",
    "    for name in img_names:\n",
    "        img_path = os.path.join(img_dir, name)\n",
    "        img = load_bmp_image(img_path)\n",
    "        if img is not None:\n",
    "            img_resized = cv2.resize(img, size)  # 统一尺寸为256×256\n",
    "            images.append(img_resized)\n",
    "        else:\n",
    "            print(f\"⚠️  跳过损坏图像：{name}\")\n",
    "    return np.array(images)\n",
    "\n",
    "def add_underwater_noise(clean_img):\n",
    "    \"\"\"生成含噪图像（模拟水下高斯+脉冲噪声）\"\"\"\n",
    "    # 高斯噪声（均值0，标准差15）\n",
    "    gauss_noise = np.random.normal(0, 15, clean_img.shape).astype(np.int16)\n",
    "    # 脉冲噪声（5%概率：2.5%盐噪声，2.5%椒噪声）\n",
    "    salt_pepper = np.random.choice([0, 1, 2], size=clean_img.shape, p=[0.95, 0.025, 0.025])\n",
    "    noisy_img = clean_img.astype(np.int16) + gauss_noise\n",
    "    noisy_img[salt_pepper == 1] = 255  # 盐噪声（白色点）\n",
    "    noisy_img[salt_pepper == 2] = 0    # 椒噪声（黑色点）\n",
    "    return np.clip(noisy_img, 0, 255).astype(np.uint8)  # 裁剪到0-255\n",
    "\n",
    "def preprocess_data(clean_imgs, noisy_imgs):\n",
    "    \"\"\"数据归一化并转为PyTorch Tensor\"\"\"\n",
    "    # 归一化到0-1范围\n",
    "    clean_norm = clean_imgs / 255.0\n",
    "    noisy_norm = noisy_imgs / 255.0\n",
    "    # 转为Tensor并添加通道维度（[样本数, 通道数, 高, 宽]，灰度图通道数=1）\n",
    "    clean_tensor = torch.tensor(clean_norm).unsqueeze(1).float()\n",
    "    noisy_tensor = torch.tensor(noisy_norm).unsqueeze(1).float()\n",
    "    return clean_tensor, noisy_tensor"
   ]
  },
  {
   "cell_type": "code",
   "execution_count": null,
   "id": "ea87841b",
   "metadata": {},
   "outputs": [],
   "source": []
  }
 ],
 "metadata": {
  "kernelspec": {
   "display_name": "denoise",
   "language": "python",
   "name": "denoise"
  },
  "language_info": {
   "codemirror_mode": {
    "name": "ipython",
    "version": 3
   },
   "file_extension": ".py",
   "mimetype": "text/x-python",
   "name": "python",
   "nbconvert_exporter": "python",
   "pygments_lexer": "ipython3",
   "version": "3.8.20"
  }
 },
 "nbformat": 4,
 "nbformat_minor": 5
}
