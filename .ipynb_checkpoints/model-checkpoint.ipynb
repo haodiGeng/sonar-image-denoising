{
 "cells": [
  {
   "cell_type": "code",
   "execution_count": 1,
   "id": "50d57b7d",
   "metadata": {},
   "outputs": [],
   "source": [
    "import torch.nn as nn\n",
    "\n",
    "class DenoiseAE(nn.Module):\n",
    "    \"\"\"基于CNN的自编码器降噪模型\"\"\"\n",
    "    def __init__(self):\n",
    "        super(DenoiseAE, self).__init__()\n",
    "        \n",
    "        # 编码器：压缩特征（输入1×256×256 → 输出32×64×64）\n",
    "        self.encoder = nn.Sequential(\n",
    "            # 第一层卷积：1→16通道，尺寸保持256×256（padding=1）\n",
    "            nn.Conv2d(in_channels=1, out_channels=16, kernel_size=3, padding=1),\n",
    "            nn.ReLU(inplace=True),  # 激活函数，增强非线性\n",
    "            nn.MaxPool2d(kernel_size=2),  # 下采样，尺寸→128×128\n",
    "            \n",
    "            # 第二层卷积：16→32通道，尺寸保持128×128\n",
    "            nn.Conv2d(in_channels=16, out_channels=32, kernel_size=3, padding=1),\n",
    "            nn.ReLU(inplace=True),\n",
    "            nn.MaxPool2d(kernel_size=2)   # 下采样，尺寸→64×64\n",
    "        )\n",
    "        \n",
    "        # 解码器：恢复图像（输入32×64×64 → 输出1×256×256）\n",
    "        self.decoder = nn.Sequential(\n",
    "            # 第一层反卷积：32→16通道，尺寸→128×128（stride=2上采样）\n",
    "            nn.ConvTranspose2d(\n",
    "                in_channels=32, out_channels=16, \n",
    "                kernel_size=3, stride=2, padding=1, output_padding=1\n",
    "            ),\n",
    "            nn.ReLU(inplace=True),\n",
    "            \n",
    "            # 第二层反卷积：16→1通道，尺寸→256×256\n",
    "            nn.ConvTranspose2d(\n",
    "                in_channels=16, out_channels=1, \n",
    "                kernel_size=3, stride=2, padding=1, output_padding=1\n",
    "            ),\n",
    "            nn.Sigmoid()  # 输出归一化到0-1，匹配输入范围\n",
    "        )\n",
    "    \n",
    "    def forward(self, x):\n",
    "        \"\"\"前向传播：含噪图像→编码→解码→降噪图像\"\"\"\n",
    "        x = self.encoder(x)  # 编码：提取特征\n",
    "        x = self.decoder(x)  # 解码：恢复图像\n",
    "        return x"
   ]
  },
  {
   "cell_type": "code",
   "execution_count": null,
   "id": "8b211091",
   "metadata": {},
   "outputs": [],
   "source": []
  }
 ],
 "metadata": {
  "kernelspec": {
   "display_name": "denoise",
   "language": "python",
   "name": "denoise"
  },
  "language_info": {
   "codemirror_mode": {
    "name": "ipython",
    "version": 3
   },
   "file_extension": ".py",
   "mimetype": "text/x-python",
   "name": "python",
   "nbconvert_exporter": "python",
   "pygments_lexer": "ipython3",
   "version": "3.8.20"
  }
 },
 "nbformat": 4,
 "nbformat_minor": 5
}
